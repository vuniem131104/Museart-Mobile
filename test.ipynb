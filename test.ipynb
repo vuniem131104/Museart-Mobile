{
 "cells": [
  {
   "cell_type": "code",
   "execution_count": 4,
   "metadata": {},
   "outputs": [
    {
     "data": {
      "text/plain": [
       "ChatGroq(client=<groq.resources.chat.completions.Completions object at 0x7f64f3a9fee0>, async_client=<groq.resources.chat.completions.AsyncCompletions object at 0x7f65207b3610>, model_name='llama3-70b-8192', model_kwargs={}, groq_api_key=SecretStr('**********'))"
      ]
     },
     "execution_count": 4,
     "metadata": {},
     "output_type": "execute_result"
    }
   ],
   "source": [
    "from langchain_groq import ChatGroq\n",
    "\n",
    "llm = ChatGroq(model=\"llama3-70b-8192\", groq_api_key=\"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\")\n",
    "llm"
   ]
  },
  {
   "cell_type": "code",
   "execution_count": 6,
   "metadata": {},
   "outputs": [
    {
     "name": "stdout",
     "output_type": "stream",
     "text": [
      "Unexpected exception formatting exception. Falling back to standard exception\n"
     ]
    },
    {
     "name": "stderr",
     "output_type": "stream",
     "text": [
      "Traceback (most recent call last):\n",
      "  File \"/home/vuiem/.local/lib/python3.10/site-packages/IPython/core/interactiveshell.py\", line 3526, in run_code\n",
      "    exec(code_obj, self.user_global_ns, self.user_ns)\n",
      "  File \"/tmp/ipykernel_8555/3935634601.py\", line 1, in <module>\n",
      "    llm.invoke(input=[\n",
      "  File \"/home/vuiem/.local/lib/python3.10/site-packages/langchain_core/language_models/chat_models.py\", line 368, in invoke\n",
      "    self.generate_prompt(\n",
      "  File \"/home/vuiem/.local/lib/python3.10/site-packages/langchain_core/language_models/chat_models.py\", line 937, in generate_prompt\n",
      "    return self.generate(prompt_messages, stop=stop, callbacks=callbacks, **kwargs)\n",
      "  File \"/home/vuiem/.local/lib/python3.10/site-packages/langchain_core/language_models/chat_models.py\", line 759, in generate\n",
      "    self._generate_with_cache(\n",
      "  File \"/home/vuiem/.local/lib/python3.10/site-packages/langchain_core/language_models/chat_models.py\", line 1002, in _generate_with_cache\n",
      "    result = self._generate(\n",
      "  File \"/home/vuiem/.local/lib/python3.10/site-packages/langchain_groq/chat_models.py\", line 480, in _generate\n",
      "    response = self.client.create(messages=message_dicts, **params)\n",
      "  File \"/home/vuiem/.local/lib/python3.10/site-packages/groq/resources/chat/completions.py\", line 322, in create\n",
      "    return self._post(\n",
      "  File \"/home/vuiem/.local/lib/python3.10/site-packages/groq/_base_client.py\", line 1225, in post\n",
      "    return cast(ResponseT, self.request(cast_to, opts, stream=stream, stream_cls=stream_cls))\n",
      "  File \"/home/vuiem/.local/lib/python3.10/site-packages/groq/_base_client.py\", line 917, in request\n",
      "    return self._request(\n",
      "  File \"/home/vuiem/.local/lib/python3.10/site-packages/groq/_base_client.py\", line 953, in _request\n",
      "    response = self._client.send(\n",
      "  File \"/home/vuiem/.local/lib/python3.10/site-packages/httpx/_client.py\", line 914, in send\n",
      "    response = self._send_handling_auth(\n",
      "  File \"/home/vuiem/.local/lib/python3.10/site-packages/httpx/_client.py\", line 942, in _send_handling_auth\n",
      "    response = self._send_handling_redirects(\n",
      "  File \"/home/vuiem/.local/lib/python3.10/site-packages/httpx/_client.py\", line 979, in _send_handling_redirects\n",
      "    response = self._send_single_request(request)\n",
      "  File \"/home/vuiem/.local/lib/python3.10/site-packages/httpx/_client.py\", line 1015, in _send_single_request\n",
      "    response = transport.handle_request(request)\n",
      "  File \"/home/vuiem/.local/lib/python3.10/site-packages/httpx/_transports/default.py\", line 233, in handle_request\n",
      "    resp = self._pool.handle_request(req)\n",
      "  File \"/home/vuiem/.local/lib/python3.10/site-packages/httpcore/_sync/connection_pool.py\", line 256, in handle_request\n",
      "    raise exc from None\n",
      "  File \"/home/vuiem/.local/lib/python3.10/site-packages/httpcore/_sync/connection_pool.py\", line 236, in handle_request\n",
      "    response = connection.handle_request(\n",
      "  File \"/home/vuiem/.local/lib/python3.10/site-packages/httpcore/_sync/connection.py\", line 101, in handle_request\n",
      "    raise exc\n",
      "  File \"/home/vuiem/.local/lib/python3.10/site-packages/httpcore/_sync/connection.py\", line 78, in handle_request\n",
      "    stream = self._connect(request)\n",
      "  File \"/home/vuiem/.local/lib/python3.10/site-packages/httpcore/_sync/connection.py\", line 124, in _connect\n",
      "    stream = self._network_backend.connect_tcp(**kwargs)\n",
      "  File \"/home/vuiem/.local/lib/python3.10/site-packages/httpcore/_backends/sync.py\", line 208, in connect_tcp\n",
      "    sock = socket.create_connection(\n",
      "  File \"/usr/lib/python3.10/socket.py\", line 833, in create_connection\n",
      "    sock.connect(sa)\n",
      "KeyboardInterrupt\n",
      "\n",
      "During handling of the above exception, another exception occurred:\n",
      "\n",
      "Traceback (most recent call last):\n",
      "  File \"/home/vuiem/.local/lib/python3.10/site-packages/IPython/core/interactiveshell.py\", line 2120, in showtraceback\n",
      "    stb = self.InteractiveTB.structured_traceback(\n",
      "  File \"/home/vuiem/.local/lib/python3.10/site-packages/IPython/core/ultratb.py\", line 1435, in structured_traceback\n",
      "    return FormattedTB.structured_traceback(\n",
      "  File \"/home/vuiem/.local/lib/python3.10/site-packages/IPython/core/ultratb.py\", line 1326, in structured_traceback\n",
      "    return VerboseTB.structured_traceback(\n",
      "  File \"/home/vuiem/.local/lib/python3.10/site-packages/IPython/core/ultratb.py\", line 1173, in structured_traceback\n",
      "    formatted_exception = self.format_exception_as_a_whole(etype, evalue, etb, number_of_lines_of_context,\n",
      "  File \"/home/vuiem/.local/lib/python3.10/site-packages/IPython/core/ultratb.py\", line 1088, in format_exception_as_a_whole\n",
      "    frames.append(self.format_record(record))\n",
      "  File \"/home/vuiem/.local/lib/python3.10/site-packages/IPython/core/ultratb.py\", line 970, in format_record\n",
      "    frame_info.lines, Colors, self.has_colors, lvals\n",
      "  File \"/home/vuiem/.local/lib/python3.10/site-packages/IPython/core/ultratb.py\", line 792, in lines\n",
      "    return self._sd.lines\n",
      "  File \"/home/vuiem/.local/lib/python3.10/site-packages/stack_data/utils.py\", line 145, in cached_property_wrapper\n",
      "    value = obj.__dict__[self.func.__name__] = self.func(obj)\n",
      "  File \"/home/vuiem/.local/lib/python3.10/site-packages/stack_data/core.py\", line 734, in lines\n",
      "    pieces = self.included_pieces\n",
      "  File \"/home/vuiem/.local/lib/python3.10/site-packages/stack_data/utils.py\", line 145, in cached_property_wrapper\n",
      "    value = obj.__dict__[self.func.__name__] = self.func(obj)\n",
      "  File \"/home/vuiem/.local/lib/python3.10/site-packages/stack_data/core.py\", line 677, in included_pieces\n",
      "    scope_pieces = self.scope_pieces\n",
      "  File \"/home/vuiem/.local/lib/python3.10/site-packages/stack_data/utils.py\", line 145, in cached_property_wrapper\n",
      "    value = obj.__dict__[self.func.__name__] = self.func(obj)\n",
      "  File \"/home/vuiem/.local/lib/python3.10/site-packages/stack_data/core.py\", line 614, in scope_pieces\n",
      "    scope_start, scope_end = self.source.line_range(self.scope)\n",
      "  File \"/home/vuiem/.local/lib/python3.10/site-packages/stack_data/core.py\", line 178, in line_range\n",
      "    return line_range(self.asttext(), node)\n",
      "AttributeError: 'Source' object has no attribute 'asttext'\n"
     ]
    }
   ],
   "source": [
    "llm.invoke(input=[\n",
    "    (\"system\", \"You are a helpful assistant\"),\n",
    "    (\"user\", \"What is the capital of France?\")\n",
    "])"
   ]
  }
 ],
 "metadata": {
  "kernelspec": {
   "display_name": "Python 3",
   "language": "python",
   "name": "python3"
  },
  "language_info": {
   "codemirror_mode": {
    "name": "ipython",
    "version": 3
   },
   "file_extension": ".py",
   "mimetype": "text/x-python",
   "name": "python",
   "nbconvert_exporter": "python",
   "pygments_lexer": "ipython3",
   "version": "3.10.12"
  }
 },
 "nbformat": 4,
 "nbformat_minor": 2
}
